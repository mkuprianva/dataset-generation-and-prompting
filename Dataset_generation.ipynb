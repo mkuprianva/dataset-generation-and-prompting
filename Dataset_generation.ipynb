{
 "cells": [
  {
   "cell_type": "markdown",
   "metadata": {
    "slideshow": {
     "slide_type": "notes"
    }
   },
   "source": [
    "[Table]\n",
    "# Dataset Generation\n",
    "\n",
    "## Why do we need to know this\n",
    "\n",
    "## Do's and Don'ts of fine tuning\n",
    "\n",
    "## Manual vs automated dataset generation\n",
    "\n",
    "## Train the trainer and knoweldge distillation\n"
   ]
  },
  {
   "cell_type": "markdown",
   "metadata": {},
   "source": []
  }
 ],
 "metadata": {
  "language_info": {
   "name": "python"
  }
 },
 "nbformat": 4,
 "nbformat_minor": 2
}
